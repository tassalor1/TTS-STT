{
 "cells": [
  {
   "cell_type": "code",
   "execution_count": 2,
   "id": "3062a6e5-bf21-48db-a631-daf013a1b739",
   "metadata": {},
   "outputs": [],
   "source": [
    "import sentencepiece as spm\n",
    "import librosa\n",
    "import numpy as np\n",
    "from pydub import AudioSegment\n",
    "import speech_recognition as sr\n",
    "import os\n",
    "from pydub import AudioSegment"
   ]
  },
  {
   "cell_type": "code",
   "execution_count": null,
   "id": "2780a3d2-feee-412a-b390-298a268572b5",
   "metadata": {},
   "outputs": [
    {
     "name": "stdout",
     "output_type": "stream",
     "text": [
      "Transcription twentyyearsonhorseback_00_weekley_64kb.mp3 saved to D:/coding/ai_assistant/transcriptions\\transcription_twentyyearsonhorseback_00_weekley_64kb.mp3.txt\n",
      "Transcription twentyyearsonhorseback_01_weekley_64kb.mp3 saved to D:/coding/ai_assistant/transcriptions\\transcription_twentyyearsonhorseback_01_weekley_64kb.mp3.txt\n",
      "Transcription twentyyearsonhorseback_02_weekley_64kb.mp3 saved to D:/coding/ai_assistant/transcriptions\\transcription_twentyyearsonhorseback_02_weekley_64kb.mp3.txt\n"
     ]
    }
   ],
   "source": [
    "## take audio and transcribe audio to text file\n",
    "recognizer = sr.Recognizer()\n",
    "\n",
    "# Load audio\n",
    "audio_folder = \"D:/coding/ai_assistant/training_data\"\n",
    "audio_files = [f for f in os.listdir(audio_folder) if f.endswith(\".mp3\")]\n",
    "transcription_folder = \"D:/coding/ai_assistant/transcriptions\" \n",
    "\n",
    "for audio_file in audio_files:\n",
    "    audio_path = os.path.join(audio_folder, audio_file)\n",
    "    audio_path = audio_path.replace(\"\\\\\", \"/\")\n",
    "\n",
    "    #convert mp3 to wav for sr libary\n",
    "    audio = AudioSegment.from_mp3(audio_path)\n",
    "    wav_path = audio_path.replace(\".mp3\", \".wav\")\n",
    "    audio.export(wav_path, format=\"wav\")\n",
    "    \n",
    "    # transcribe audio to text\n",
    "    with sr.AudioFile(wav_path) as source:\n",
    "        audio = recognizer.record(source)  # record the  audio file\n",
    "        transcription = recognizer.recognize_sphinx(audio)  \n",
    "    \n",
    "    # save the transcription to a text file\n",
    "    transcription_file_name = f\"transcription_{audio_file}.txt\"\n",
    "    transcription_file_path = os.path.join(transcription_folder, transcription_file_name)\n",
    "\n",
    "    with open(transcription_file_path, \"w\") as file:\n",
    "        file.write(transcription)\n",
    "\n",
    "    print(f\"Transcription {audio_file} saved to {transcription_file_path}\")"
   ]
  },
  {
   "cell_type": "code",
   "execution_count": null,
   "id": "1cffa9a1-2072-4b8b-aeb2-d01950e905c1",
   "metadata": {},
   "outputs": [],
   "source": [
    "## take audio and transcription - create an alignment of the pair\n",
    "audio = AudioSegment.from_file(\"audiobook.mp3\")\n",
    "\n",
    "# Step 2: Text-Audio Alignment (using Aeneas)\n",
    "# Assume the alignments are obtained and saved in a list of tuples: alignments\n",
    "# Each tuple contains the start and end times (in milliseconds) for each audio chunk\n",
    "# alignments = [(start1, end1), (start2, end2), ...]\n",
    "\n",
    "# Also, assume transcription.txt contains the corresponding text for each audio chunk\n",
    "# Each line in transcription.txt corresponds to an audio chunk\n",
    "\n",
    "# Step 3: Train SentencePiece model\n",
    "spm.SentencePieceTrainer.train('--input=transcription.txt --model_prefix=m --vocab_size=2000')\n",
    "sp = spm.SentencePieceProcessor()\n",
    "sp.load('m.model')\n",
    "\n",
    "# Step 4: Preprocess Data\n",
    "audio_chunks = [audio[start:end] for start, end in alignments]\n",
    "\n",
    "# Read the text data from transcription.txt\n",
    "with open('transcription.txt', 'r') as file:\n",
    "    texts = [line.strip() for line in file]\n",
    "\n",
    "# Tokenize text\n",
    "tokenized_texts = [sp.encode(text, out_type=str) for text in texts]\n",
    "\n",
    "# Step 5: Feature Engineering\n",
    "def extract_features(audio_chunk):\n",
    "    samples = np.array(audio_chunk.get_array_of_samples())\n",
    "    spectrogram = librosa.feature.melspectrogram(y=samples, sr=audio_chunk.frame_rate)\n",
    "    return spectrogram\n",
    "\n",
    "spectrograms = [extract_features(audio_chunk) for audio_chunk in audio_chunks]\n",
    "\n",
    "# Step 6: Create Dataset\n",
    "dataset = list(zip(spectrograms, texts, tokenized_texts))\n",
    "\n",
    "# Step 7: Model Selection and Training\n",
    "# Choose a TTS model architecture (e.g., Tacotron 2)\n",
    "# Set up the training environment and train the model on the prepared dataset\n",
    "# The exact steps will depend on the TTS framework and model you choose\n",
    "\n",
    "# Step 8: Evaluation\n",
    "# Evaluate the performance of your TTS model\n",
    "# The evaluation steps will also depend on the TTS framework and model you choose\n",
    "\n"
   ]
  }
 ],
 "metadata": {
  "kernelspec": {
   "display_name": "ai-venv",
   "language": "python",
   "name": "ai-venv"
  },
  "language_info": {
   "codemirror_mode": {
    "name": "ipython",
    "version": 3
   },
   "file_extension": ".py",
   "mimetype": "text/x-python",
   "name": "python",
   "nbconvert_exporter": "python",
   "pygments_lexer": "ipython3",
   "version": "3.11.5"
  }
 },
 "nbformat": 4,
 "nbformat_minor": 5
}
