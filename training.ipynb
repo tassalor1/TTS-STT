{
 "cells": [
  {
   "cell_type": "code",
   "execution_count": 1,
   "id": "526b7d65-db2a-4097-af41-36389369490d",
   "metadata": {},
   "outputs": [
    {
     "ename": "ModuleNotFoundError",
     "evalue": "No module named 'TTS'",
     "output_type": "error",
     "traceback": [
      "\u001b[1;31m---------------------------------------------------------------------------\u001b[0m",
      "\u001b[1;31mModuleNotFoundError\u001b[0m                       Traceback (most recent call last)",
      "Cell \u001b[1;32mIn[1], line 1\u001b[0m\n\u001b[1;32m----> 1\u001b[0m \u001b[38;5;28;01mfrom\u001b[39;00m \u001b[38;5;21;01mTTS\u001b[39;00m\u001b[38;5;21;01m.\u001b[39;00m\u001b[38;5;21;01mtts\u001b[39;00m\u001b[38;5;21;01m.\u001b[39;00m\u001b[38;5;21;01mconfigs\u001b[39;00m\u001b[38;5;21;01m.\u001b[39;00m\u001b[38;5;21;01mbark_config\u001b[39;00m \u001b[38;5;28;01mimport\u001b[39;00m BarkConfig\n\u001b[0;32m      2\u001b[0m \u001b[38;5;28;01mfrom\u001b[39;00m \u001b[38;5;21;01mTTS\u001b[39;00m\u001b[38;5;21;01m.\u001b[39;00m\u001b[38;5;21;01mtts\u001b[39;00m\u001b[38;5;21;01m.\u001b[39;00m\u001b[38;5;21;01mmodels\u001b[39;00m\u001b[38;5;21;01m.\u001b[39;00m\u001b[38;5;21;01mbark\u001b[39;00m \u001b[38;5;28;01mimport\u001b[39;00m Bark\n",
      "\u001b[1;31mModuleNotFoundError\u001b[0m: No module named 'TTS'"
     ]
    }
   ],
   "source": [
    "from TTS.tts.configs.bark_config import BarkConfig\n",
    "from TTS.tts.models.bark import Barkg"
   ]
  },
  {
   "cell_type": "code",
   "execution_count": null,
   "id": "50a98f08-2917-46f4-8d97-8c3bb03120c3",
   "metadata": {},
   "outputs": [],
   "source": [
    "processor = BarkProcessor.from_pretrained(\"suno/bark\")\n",
    "\n",
    "\n",
    "train_dataset = datasets.load_dataset(\"\")\n",
    "\n",
    "\n",
    "def preprocess_data(batch):\n",
    "    audio = batch[\"audio\"]\n",
    "    text = batch[\"text\"]\n",
    "    inputs = processor(text, audio, return_tensors=\"pt\", padding=True)\n",
    "    return inputs\n",
    "\n",
    "train_dataset = train_dataset.map(preprocess_data)\n",
    "\n",
    "model = BarkForPreTraining.from_pretrained(\"suno/bark\")\n",
    "\n",
    "# training params\n",
    "training_args = TrainingArguments(\n",
    "    output_dir=\"./output\",\n",
    "    overwrite_output_dir=True,\n",
    "    num_train_epochs=1,\n",
    "    per_device_train_batch_size=32,\n",
    "    save_steps=10_000,\n",
    "    save_total_limit=2,\n",
    ")\n",
    "\n",
    "# initialise the trainer\n",
    "trainer = Trainer(\n",
    "    model=model,\n",
    "    args=training_args,\n",
    "    data_collator=lambda data: {\"input_values\": data[\"input_values\"], \"labels\": data[\"labels\"]},\n",
    "    train_dataset=train_dataset,\n",
    ")\n",
    "\n",
    "\n",
    "trainer.train()"
   ]
  }
 ],
 "metadata": {
  "kernelspec": {
   "display_name": "Python 3 (ipykernel)",
   "language": "python",
   "name": "python3"
  },
  "language_info": {
   "codemirror_mode": {
    "name": "ipython",
    "version": 3
   },
   "file_extension": ".py",
   "mimetype": "text/x-python",
   "name": "python",
   "nbconvert_exporter": "python",
   "pygments_lexer": "ipython3",
   "version": "3.11.5"
  }
 },
 "nbformat": 4,
 "nbformat_minor": 5
}
